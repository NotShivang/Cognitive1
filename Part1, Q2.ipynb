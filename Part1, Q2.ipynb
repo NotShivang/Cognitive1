{
 "cells": [
  {
   "cell_type": "markdown",
   "metadata": {},
   "source": [
    "Consider the linear subspace S = spanfv1; v2; v3; v4g where v1 = [1; 2; 3; 4]; v2 = [0; 1; 0; 1]; v3 =\n",
    "[1; 4; 3; 6]; v4 = [2; 11; 6; 15]. Create a vector inside S di\u000b",
    "erent from v1; v2; v3; v4. Create a\n",
    "vector not in S. How would you check if a new vector is in S?"
   ]
  },
  {
   "cell_type": "code",
   "execution_count": 46,
   "metadata": {},
   "outputs": [],
   "source": [
    "import numpy as np\n",
    "import sympy \n",
    "import scipy.linalg\n",
    "from scipy.optimize import minimize"
   ]
  },
  {
   "cell_type": "code",
   "execution_count": 5,
   "metadata": {},
   "outputs": [],
   "source": [
    "s=np.array([[1,0,1,2],[2,1,4,11],[3,0,3,6],[4,1,6,15]])"
   ]
  },
  {
   "cell_type": "code",
   "execution_count": 6,
   "metadata": {},
   "outputs": [
    {
     "data": {
      "text/plain": [
       "array([[ 1,  0,  1,  2],\n",
       "       [ 2,  1,  4, 11],\n",
       "       [ 3,  0,  3,  6],\n",
       "       [ 4,  1,  6, 15]])"
      ]
     },
     "execution_count": 6,
     "metadata": {},
     "output_type": "execute_result"
    }
   ],
   "source": [
    "s"
   ]
  },
  {
   "cell_type": "code",
   "execution_count": 8,
   "metadata": {},
   "outputs": [
    {
     "data": {
      "text/plain": [
       "0.0"
      ]
     },
     "execution_count": 8,
     "metadata": {},
     "output_type": "execute_result"
    }
   ],
   "source": [
    "y = np.linalg.det(s)\n",
    "y\n",
    "\n",
    "# determinant is 0, so we can not take an inverse of s"
   ]
  },
  {
   "cell_type": "code",
   "execution_count": 13,
   "metadata": {},
   "outputs": [
    {
     "data": {
      "text/plain": [
       "(Matrix([\n",
       " [1, 0, 1, 2],\n",
       " [0, 1, 2, 7],\n",
       " [0, 0, 0, 0],\n",
       " [0, 0, 0, 0]]), (0, 1))"
      ]
     },
     "execution_count": 13,
     "metadata": {},
     "output_type": "execute_result"
    }
   ],
   "source": [
    "sympy.Matrix(s).rref()"
   ]
  },
  {
   "cell_type": "code",
   "execution_count": null,
   "metadata": {},
   "outputs": [],
   "source": [
    "# therefore, a linear combination of vectors v1 and v2 will give us a vector in the subspace S\n",
    "# v1+v2= [1,3,3,5] this vector lies in the subspace S"
   ]
  },
  {
   "cell_type": "code",
   "execution_count": 16,
   "metadata": {},
   "outputs": [
    {
     "data": {
      "text/plain": [
       "array([ 31, 154,  93, 216])"
      ]
     },
     "execution_count": 16,
     "metadata": {},
     "output_type": "execute_result"
    }
   ],
   "source": [
    "n=np.dot(s,[3,6,8,10])\n",
    "n\n",
    "#n also lies in the subspace S"
   ]
  },
  {
   "cell_type": "markdown",
   "metadata": {},
   "source": [
    "Find the dimension of the subspace S."
   ]
  },
  {
   "cell_type": "code",
   "execution_count": 45,
   "metadata": {},
   "outputs": [
    {
     "data": {
      "text/plain": [
       "(Matrix([\n",
       " [1, 0, 1, 2],\n",
       " [0, 1, 2, 7],\n",
       " [0, 0, 0, 0],\n",
       " [0, 0, 0, 0]]), (0, 1))"
      ]
     },
     "execution_count": 45,
     "metadata": {},
     "output_type": "execute_result"
    }
   ],
   "source": [
    "sympy.Matrix(s).rref()"
   ]
  },
  {
   "cell_type": "code",
   "execution_count": 18,
   "metadata": {},
   "outputs": [],
   "source": [
    "# dimension of the subspace S is 2 that is, (0,1) or (v1,v2) as seen in the output of cell above"
   ]
  },
  {
   "cell_type": "markdown",
   "metadata": {},
   "source": [
    "Find an orthonormal basis for the subspace S."
   ]
  },
  {
   "cell_type": "code",
   "execution_count": 39,
   "metadata": {},
   "outputs": [
    {
     "data": {
      "text/plain": [
       "6"
      ]
     },
     "execution_count": 39,
     "metadata": {},
     "output_type": "execute_result"
    }
   ],
   "source": [
    "# making sure that v1 and v2 are not orthogonal, i.e v1.v2!=0\n",
    "\n",
    "np.dot([1,2,3,4],[0,1,0,1])"
   ]
  },
  {
   "cell_type": "code",
   "execution_count": 40,
   "metadata": {},
   "outputs": [
    {
     "data": {
      "text/plain": [
       "array([[-0.1098991 ,  0.2669373 ],\n",
       "       [-0.54396107, -0.53613402],\n",
       "       [-0.32969731,  0.80081189],\n",
       "       [-0.76375927, -0.00225943]])"
      ]
     },
     "execution_count": 40,
     "metadata": {},
     "output_type": "execute_result"
    }
   ],
   "source": [
    "# orthonormal basis in given by:\n",
    "\n",
    "scipy.linalg.orth(s)"
   ]
  },
  {
   "cell_type": "code",
   "execution_count": 41,
   "metadata": {},
   "outputs": [
    {
     "name": "stdout",
     "output_type": "stream",
     "text": [
      "[-0.1098991  -0.54396107 -0.32969731 -0.76375927] [ 0.2669373  -0.53613402  0.80081189 -0.00225943]\n"
     ]
    }
   ],
   "source": [
    "# verification\n",
    "\n",
    "v11=scipy.linalg.orth(s)[:,0]\n",
    "v12=scipy.linalg.orth(s)[:,1]\n",
    "print(v11,v12)"
   ]
  },
  {
   "cell_type": "code",
   "execution_count": 42,
   "metadata": {},
   "outputs": [
    {
     "data": {
      "text/plain": [
       "2.220446049250313e-16"
      ]
     },
     "execution_count": 42,
     "metadata": {},
     "output_type": "execute_result"
    }
   ],
   "source": [
    "# this should be equal to 0 for perfect orthonormality\n",
    "\n",
    "np.dot(v11,v12)"
   ]
  },
  {
   "cell_type": "markdown",
   "metadata": {},
   "source": [
    "Solve the optimization problem minx2Sjjx 􀀀 z\u0003jj2 where z\u0003 = [1; 0; 0; 0]."
   ]
  },
  {
   "cell_type": "code",
   "execution_count": 43,
   "metadata": {},
   "outputs": [
    {
     "data": {
      "text/plain": [
       "array([1, 0, 0, 0])"
      ]
     },
     "execution_count": 43,
     "metadata": {},
     "output_type": "execute_result"
    }
   ],
   "source": [
    "z=np.array([1,0,0,0])\n",
    "z"
   ]
  },
  {
   "cell_type": "code",
   "execution_count": 94,
   "metadata": {},
   "outputs": [],
   "source": [
    "# http://mathworld.wolfram.com/MatrixNorm.html\n",
    "\n",
    "def fun(r):\n",
    "    s=np.array([[1,0,1,2],[2,1,4,11],[3,0,3,6],[4,1,6,15]])\n",
    "    z=np.array([1,0,0,0])\n",
    "    v=np.dot(s,r)\n",
    "    m=v-z\n",
    "    y = m.conj().T\n",
    "    n=np.dot(m,y)\n",
    "    #b=scipy.linalg.eigh(n) not needed since eigenvalue of a 1x1 is equal to the only element present\n",
    "    c=sqrt(n)\n",
    "    return c"
   ]
  },
  {
   "cell_type": "code",
   "execution_count": 95,
   "metadata": {},
   "outputs": [],
   "source": [
    "initial_guess = [1, 1, 1, 1]\n",
    "result = scipy.optimize.minimize(fun, initial_guess)"
   ]
  },
  {
   "cell_type": "code",
   "execution_count": 96,
   "metadata": {},
   "outputs": [
    {
     "data": {
      "text/plain": [
       "array([ 0.08333338, -0.08333352,  0.25000013,  0.08333323])"
      ]
     },
     "execution_count": 96,
     "metadata": {},
     "output_type": "execute_result"
    }
   ],
   "source": [
    "# vector x for which the given problem has a minimum solution:\n",
    "\n",
    "np.dot(s,result.x)"
   ]
  },
  {
   "cell_type": "markdown",
   "metadata": {},
   "source": [
    "Is there a relation of this optimization problem with linear regression? Discuss."
   ]
  },
  {
   "cell_type": "code",
   "execution_count": 77,
   "metadata": {},
   "outputs": [],
   "source": [
    "# The minimization problem looks like a possible loss function of a linear rergession model. z* can be the set of known values of the dependent variables. And the x can be the product of betas and the independent variables. Instead of minimizing the mean squared error, in this problem we are minimizing the spectral norm of the difference between z* and x, which would give us a new set of betas if this was a regression problem."
   ]
  }
 ],
 "metadata": {
  "kernelspec": {
   "display_name": "Python 3",
   "language": "python",
   "name": "python3"
  },
  "language_info": {
   "codemirror_mode": {
    "name": "ipython",
    "version": 3
   },
   "file_extension": ".py",
   "mimetype": "text/x-python",
   "name": "python",
   "nbconvert_exporter": "python",
   "pygments_lexer": "ipython3",
   "version": "3.7.4"
  }
 },
 "nbformat": 4,
 "nbformat_minor": 2
}
